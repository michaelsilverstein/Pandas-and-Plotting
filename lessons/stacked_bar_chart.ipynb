{
 "cells": [
  {
   "cell_type": "markdown",
   "id": "12a91236-97d2-4086-8a84-b6e040cae4d2",
   "metadata": {},
   "source": [
    "# Stacked Bar Chart\n",
    "\n",
    "Like many visualizations, creating a stacked bar chart in Python is possible using the native matplotlib library as can be seen [here](https://matplotlib.org/stable/gallery/lines_bars_and_markers/bar_stacked.html). However, I find the Seaborn API to be more convenient than the matplotlib API. Seaborn does have a great [barplot function](https://seaborn.pydata.org/generated/seaborn.barplot.html), but there is no option for stacking. Below is a recipe function for generating a stacked barplot from a [wideform](https://github.com/michaelsilverstein/Pandas-and-Plotting/blob/master/lessons/melting_pivotting.ipynb) DataFrame."
   ]
  },
  {
   "cell_type": "code",
   "execution_count": 2,
   "id": "1dd46404-625a-4f00-a6f3-0208cd7b44c4",
   "metadata": {},
   "outputs": [],
   "source": [
    "import pandas as pd\n",
    "import numpy as np\n",
    "import seaborn as sns\n",
    "import matplotlib.pyplot as plt"
   ]
  },
  {
   "cell_type": "markdown",
   "id": "cd03948f-5807-404e-9fe6-b2a4f957ca34",
   "metadata": {},
   "source": [
    "# Generate data\n",
    "We'll create a stacked barplot of how much food each person ate this week."
   ]
  },
  {
   "cell_type": "code",
   "execution_count": 49,
   "id": "2d5f9ec0-0d00-4091-b366-af15ead82794",
   "metadata": {},
   "outputs": [
    {
     "data": {
      "text/html": [
       "<div>\n",
       "<style scoped>\n",
       "    .dataframe tbody tr th:only-of-type {\n",
       "        vertical-align: middle;\n",
       "    }\n",
       "\n",
       "    .dataframe tbody tr th {\n",
       "        vertical-align: top;\n",
       "    }\n",
       "\n",
       "    .dataframe thead th {\n",
       "        text-align: right;\n",
       "    }\n",
       "</style>\n",
       "<table border=\"1\" class=\"dataframe\">\n",
       "  <thead>\n",
       "    <tr style=\"text-align: right;\">\n",
       "      <th>person</th>\n",
       "      <th>Veronica</th>\n",
       "      <th>Carlos</th>\n",
       "      <th>Lan</th>\n",
       "      <th>Sir Eatsalot</th>\n",
       "      <th>Stephanie</th>\n",
       "    </tr>\n",
       "    <tr>\n",
       "      <th>food</th>\n",
       "      <th></th>\n",
       "      <th></th>\n",
       "      <th></th>\n",
       "      <th></th>\n",
       "      <th></th>\n",
       "    </tr>\n",
       "  </thead>\n",
       "  <tbody>\n",
       "    <tr>\n",
       "      <th>apples</th>\n",
       "      <td>12</td>\n",
       "      <td>7</td>\n",
       "      <td>12</td>\n",
       "      <td>10</td>\n",
       "      <td>8</td>\n",
       "    </tr>\n",
       "    <tr>\n",
       "      <th>oranges</th>\n",
       "      <td>9</td>\n",
       "      <td>9</td>\n",
       "      <td>7</td>\n",
       "      <td>10</td>\n",
       "      <td>11</td>\n",
       "    </tr>\n",
       "    <tr>\n",
       "      <th>pears</th>\n",
       "      <td>12</td>\n",
       "      <td>12</td>\n",
       "      <td>9</td>\n",
       "      <td>8</td>\n",
       "      <td>5</td>\n",
       "    </tr>\n",
       "    <tr>\n",
       "      <th>pizzas</th>\n",
       "      <td>9</td>\n",
       "      <td>9</td>\n",
       "      <td>9</td>\n",
       "      <td>16</td>\n",
       "      <td>11</td>\n",
       "    </tr>\n",
       "    <tr>\n",
       "      <th>carrots</th>\n",
       "      <td>8</td>\n",
       "      <td>14</td>\n",
       "      <td>10</td>\n",
       "      <td>6</td>\n",
       "      <td>11</td>\n",
       "    </tr>\n",
       "    <tr>\n",
       "      <th>lollipops</th>\n",
       "      <td>8</td>\n",
       "      <td>9</td>\n",
       "      <td>14</td>\n",
       "      <td>12</td>\n",
       "      <td>11</td>\n",
       "    </tr>\n",
       "  </tbody>\n",
       "</table>\n",
       "</div>"
      ],
      "text/plain": [
       "person     Veronica  Carlos  Lan  Sir Eatsalot  Stephanie\n",
       "food                                                     \n",
       "apples           12       7   12            10          8\n",
       "oranges           9       9    7            10         11\n",
       "pears            12      12    9             8          5\n",
       "pizzas            9       9    9            16         11\n",
       "carrots           8      14   10             6         11\n",
       "lollipops         8       9   14            12         11"
      ]
     },
     "execution_count": 49,
     "metadata": {},
     "output_type": "execute_result"
    }
   ],
   "source": [
    "\"\"\"Generate random count data\"\"\"\n",
    "# How much food does each person eat in a week\n",
    "np.random.seed(123)\n",
    "data = np.random.poisson(10, (6, 5))\n",
    "# Let's give our index and columns a name with `.rename_axis()`\n",
    "df = pd.DataFrame(data, ['apples', 'oranges', 'pears', 'pizzas', 'carrots', 'lollipops'], ['Veronica', 'Carlos', 'Lan', 'Sir Eatsalot', 'Stephanie']).rename_axis(columns='person', index='food')\n",
    "df"
   ]
  },
  {
   "cell_type": "markdown",
   "id": "6a4792d3-4122-4c01-9fae-712975e6ff84",
   "metadata": {},
   "source": [
    "# Stacked bar plot function\n",
    "Here is a function for creating a stacked barplot. Below is an explanation of how it works."
   ]
  },
  {
   "cell_type": "code",
   "execution_count": 83,
   "id": "3f60fc76-14c5-41a5-ba03-65171a3114d3",
   "metadata": {
    "tags": []
   },
   "outputs": [],
   "source": [
    "def stackedbarplot(data, stack_order=None, palette=None, **barplot_kws):\n",
    "    \"\"\"\n",
    "    Create a stacked barplot\n",
    "    Inputs:\n",
    "    | data <pd.DataFrame>: A wideform dataframe where the index is the variable to stack, the columns are different samples (x-axis), and the cells the counts (y-axis)\n",
    "    | stack_order <array-like>: The order for bars to be stacked (Default: given order)\n",
    "    | palette <array-like>: The colors to use for each value of `stack_order` (Default: husl)\n",
    "    | barplot_kws: Arguments to pass to sns.barplot()\n",
    "    \"\"\"\n",
    "    # Order df\n",
    "    if stack_order is None:\n",
    "        stack_order = data.index\n",
    "    # Create palette if none\n",
    "    if palette is None:\n",
    "        palette = dict(zip(stack_order, sns.husl_palette(len(stack_order))))\n",
    "    # Compute cumsum\n",
    "    cumsum = data.loc[stack_order].cumsum()\n",
    "    # Melt for passing to seaborn\n",
    "    cumsum_stacked = cumsum.stack().reset_index(name='count')\n",
    "    # Get name of variable to stack and sample\n",
    "    stack_name, sample_name = cumsum_stacked.columns[:2]\n",
    "    \n",
    "    # Plot bar plot\n",
    "    for s in stack_order[::-1]:\n",
    "        # Subset to this stack level\n",
    "        d = cumsum_stacked[cumsum_stacked[stack_name].eq(s)]\n",
    "        sns.barplot(x=sample_name, y='count', hue=stack_name, palette=palette, data=d, **barplot_kws)\n",
    "    return plt.gca()"
   ]
  },
  {
   "cell_type": "code",
   "execution_count": 84,
   "id": "a05e2628-58c2-4240-9ad7-bf979a00a9b1",
   "metadata": {},
   "outputs": [
    {
     "data": {
      "image/png": "[encoded data removed]",
      "text/plain": [
       "<Figure size 432x288 with 1 Axes>"
      ]
     },
     "metadata": {
      "needs_background": "light"
     },
     "output_type": "display_data"
    }
   ],
   "source": [
    "\"\"\"Using stackedbarplot\"\"\"\n",
    "stackedbarplot(df)\n",
    "plt.show()"
   ]
  },
  {
   "cell_type": "code",
   "execution_count": 91,
   "id": "4bbb5846-dc90-4a60-b828-37cf894e1563",
   "metadata": {},
   "outputs": [
    {
     "data": {
      "image/png": "[encoded data removed]",
      "text/plain": [
       "<Figure size 432x288 with 1 Axes>"
      ]
     },
     "metadata": {
      "needs_background": "light"
     },
     "output_type": "display_data"
    }
   ],
   "source": [
    "\"\"\"Providing arguments\"\"\"\n",
    "# Change the stack order, x-order, provide a palette\n",
    "pal = dict(zip(df.index, sns.hls_palette(len(df.index))))\n",
    "stackedbarplot(df, stack_order=df.index[::-1], palette=pal, order=df.columns[::-1])\n",
    "plt.show()"
   ]
  },
  {
   "cell_type": "code",
   "execution_count": 86,
   "id": "1fd78610-cec3-4f2a-9ce4-0a02b65c744c",
   "metadata": {},
   "outputs": [
    {
     "data": {
      "image/png": "[encoded data removed]",
      "text/plain": [
       "<Figure size 720x288 with 1 Axes>"
      ]
     },
     "metadata": {
      "needs_background": "light"
     },
     "output_type": "display_data"
    }
   ],
   "source": [
    "\"\"\"Manipulate figure\"\"\"\n",
    "# We can manipulate this figure just like any other matplotlib object\n",
    "with sns.plotting_context('notebook', font_scale=1.25):\n",
    "    plt.figure(figsize=(10, 4))\n",
    "    stackedbarplot(df)\n",
    "    plt.legend(bbox_to_anchor=(1, 1))\n",
    "    plt.xlabel('Person')\n",
    "    plt.ylabel('')\n",
    "plt.show()"
   ]
  },
  {
   "cell_type": "markdown",
   "id": "7dbb6d14-9ba3-4a48-918b-3d44bef439fc",
   "metadata": {},
   "source": [
    "# Explanation\n",
    "The cells below break this function down step-by-step"
   ]
  },
  {
   "cell_type": "code",
   "execution_count": 36,
   "id": "53f5a6fe-1350-4852-a3e7-a49a02960575",
   "metadata": {},
   "outputs": [
    {
     "data": {
      "text/html": [
       "<div>\n",
       "<style scoped>\n",
       "    .dataframe tbody tr th:only-of-type {\n",
       "        vertical-align: middle;\n",
       "    }\n",
       "\n",
       "    .dataframe tbody tr th {\n",
       "        vertical-align: top;\n",
       "    }\n",
       "\n",
       "    .dataframe thead th {\n",
       "        text-align: right;\n",
       "    }\n",
       "</style>\n",
       "<table border=\"1\" class=\"dataframe\">\n",
       "  <thead>\n",
       "    <tr style=\"text-align: right;\">\n",
       "      <th>person</th>\n",
       "      <th>Veronica</th>\n",
       "      <th>Carlos</th>\n",
       "      <th>Lan</th>\n",
       "      <th>Sir Eatsalot</th>\n",
       "      <th>Stephanie</th>\n",
       "    </tr>\n",
       "    <tr>\n",
       "      <th>food</th>\n",
       "      <th></th>\n",
       "      <th></th>\n",
       "      <th></th>\n",
       "      <th></th>\n",
       "      <th></th>\n",
       "    </tr>\n",
       "  </thead>\n",
       "  <tbody>\n",
       "    <tr>\n",
       "      <th>apples</th>\n",
       "      <td>12</td>\n",
       "      <td>7</td>\n",
       "      <td>12</td>\n",
       "      <td>10</td>\n",
       "      <td>8</td>\n",
       "    </tr>\n",
       "    <tr>\n",
       "      <th>oranges</th>\n",
       "      <td>21</td>\n",
       "      <td>16</td>\n",
       "      <td>19</td>\n",
       "      <td>20</td>\n",
       "      <td>19</td>\n",
       "    </tr>\n",
       "    <tr>\n",
       "      <th>pears</th>\n",
       "      <td>33</td>\n",
       "      <td>28</td>\n",
       "      <td>28</td>\n",
       "      <td>28</td>\n",
       "      <td>24</td>\n",
       "    </tr>\n",
       "    <tr>\n",
       "      <th>pizzas</th>\n",
       "      <td>42</td>\n",
       "      <td>37</td>\n",
       "      <td>37</td>\n",
       "      <td>44</td>\n",
       "      <td>35</td>\n",
       "    </tr>\n",
       "    <tr>\n",
       "      <th>carrots</th>\n",
       "      <td>50</td>\n",
       "      <td>51</td>\n",
       "      <td>47</td>\n",
       "      <td>50</td>\n",
       "      <td>46</td>\n",
       "    </tr>\n",
       "    <tr>\n",
       "      <th>lollipops</th>\n",
       "      <td>58</td>\n",
       "      <td>60</td>\n",
       "      <td>61</td>\n",
       "      <td>62</td>\n",
       "      <td>57</td>\n",
       "    </tr>\n",
       "  </tbody>\n",
       "</table>\n",
       "</div>"
      ],
      "text/plain": [
       "person     Veronica  Carlos  Lan  Sir Eatsalot  Stephanie\n",
       "food                                                     \n",
       "apples           12       7   12            10          8\n",
       "oranges          21      16   19            20         19\n",
       "pears            33      28   28            28         24\n",
       "pizzas           42      37   37            44         35\n",
       "carrots          50      51   47            50         46\n",
       "lollipops        58      60   61            62         57"
      ]
     },
     "execution_count": 36,
     "metadata": {},
     "output_type": "execute_result"
    }
   ],
   "source": [
    "\"\"\"Compute cumulative sum\"\"\"\n",
    "# We want the bars to stack on top of each other, therefore we'll compute the cumulative sum\n",
    "\n",
    "# Let's choose an order for the stacks (we'll just keep it the same as the `df` but it can be any order)\n",
    "order = df.index\n",
    "\n",
    "# Now order and compute the cumulative sum\n",
    "cumsum = df.loc[order].cumsum()\n",
    "cumsum"
   ]
  },
  {
   "cell_type": "code",
   "execution_count": 38,
   "id": "76040785-60d5-4247-8263-9f7f468336fe",
   "metadata": {},
   "outputs": [
    {
     "data": {
      "text/html": [
       "<div>\n",
       "<style scoped>\n",
       "    .dataframe tbody tr th:only-of-type {\n",
       "        vertical-align: middle;\n",
       "    }\n",
       "\n",
       "    .dataframe tbody tr th {\n",
       "        vertical-align: top;\n",
       "    }\n",
       "\n",
       "    .dataframe thead th {\n",
       "        text-align: right;\n",
       "    }\n",
       "</style>\n",
       "<table border=\"1\" class=\"dataframe\">\n",
       "  <thead>\n",
       "    <tr style=\"text-align: right;\">\n",
       "      <th></th>\n",
       "      <th>food</th>\n",
       "      <th>person</th>\n",
       "      <th>count</th>\n",
       "    </tr>\n",
       "  </thead>\n",
       "  <tbody>\n",
       "    <tr>\n",
       "      <th>0</th>\n",
       "      <td>apples</td>\n",
       "      <td>Veronica</td>\n",
       "      <td>12</td>\n",
       "    </tr>\n",
       "    <tr>\n",
       "      <th>1</th>\n",
       "      <td>apples</td>\n",
       "      <td>Carlos</td>\n",
       "      <td>7</td>\n",
       "    </tr>\n",
       "    <tr>\n",
       "      <th>2</th>\n",
       "      <td>apples</td>\n",
       "      <td>Lan</td>\n",
       "      <td>12</td>\n",
       "    </tr>\n",
       "    <tr>\n",
       "      <th>3</th>\n",
       "      <td>apples</td>\n",
       "      <td>Sir Eatsalot</td>\n",
       "      <td>10</td>\n",
       "    </tr>\n",
       "    <tr>\n",
       "      <th>4</th>\n",
       "      <td>apples</td>\n",
       "      <td>Stephanie</td>\n",
       "      <td>8</td>\n",
       "    </tr>\n",
       "  </tbody>\n",
       "</table>\n",
       "</div>"
      ],
      "text/plain": [
       "     food        person  count\n",
       "0  apples      Veronica     12\n",
       "1  apples        Carlos      7\n",
       "2  apples           Lan     12\n",
       "3  apples  Sir Eatsalot     10\n",
       "4  apples     Stephanie      8"
      ]
     },
     "execution_count": 38,
     "metadata": {},
     "output_type": "execute_result"
    }
   ],
   "source": [
    "\"\"\"Melt df\"\"\"\n",
    "# We'll melt the dataframe in order to pass to seaborn's API\n",
    "cumsum_stacked = cumsum.stack().reset_index(name='count')\n",
    "cumsum_stacked.head()"
   ]
  },
  {
   "cell_type": "code",
   "execution_count": 43,
   "id": "45a4c6fd-4d00-444c-879e-3fbe063b9e7e",
   "metadata": {},
   "outputs": [
    {
     "data": {
      "image/png": "[encoded data removed]",
      "text/plain": [
       "<Figure size 432x288 with 1 Axes>"
      ]
     },
     "metadata": {
      "needs_background": "light"
     },
     "output_type": "display_data"
    }
   ],
   "source": [
    "\"\"\"Plot\"\"\"\n",
    "# Let's make a palette\n",
    "palette = dict(zip(order, sns.husl_palette(len(order))))\n",
    "\n",
    "# Now we can plot a series of barplots, one for food\n",
    "## We'll plot in reverse order since so that smaller bars are on top \n",
    "for food in order[::-1]:\n",
    "    # Subset to this food\n",
    "    data = cumsum_stacked[cumsum_stacked.food.eq(food)]\n",
    "    sns.barplot(x='person', y='count',  hue='food', data=data, palette=palette)\n",
    "# Let's move that legend to the side\n",
    "plt.legend(bbox_to_anchor=(1, 1))\n",
    "plt.show()"
   ]
  }
 ],
 "metadata": {
  "kernelspec": {
   "display_name": "Python 3",
   "language": "python",
   "name": "python3"
  },
  "language_info": {
   "codemirror_mode": {
    "name": "ipython",
    "version": 3
   },
   "file_extension": ".py",
   "mimetype": "text/x-python",
   "name": "python",
   "nbconvert_exporter": "python",
   "pygments_lexer": "ipython3",
   "version": "3.8.10"
  }
 },
 "nbformat": 4,
 "nbformat_minor": 5
}
